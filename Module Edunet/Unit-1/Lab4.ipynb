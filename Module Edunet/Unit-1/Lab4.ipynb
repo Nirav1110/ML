{
 "cells": [
  {
   "cell_type": "code",
   "execution_count": 1,
   "id": "c35a3b75",
   "metadata": {},
   "outputs": [],
   "source": [
    "import pandas as pd\n",
    "import matplotlib.pyplot as plt\n",
    "import seaborn as sns\n",
    "from sklearn.cluster import KMeans\n",
    "import os\n",
    "os.environ[\"OMP_NUM_THREADS\"] = '1'\n",
    "from sklearn.preprocessing import StandardScaler\n"
   ]
  },
  {
   "cell_type": "code",
   "execution_count": 2,
   "id": "0c40904c",
   "metadata": {},
   "outputs": [
    {
     "data": {
      "text/html": [
       "<div>\n",
       "<style scoped>\n",
       "    .dataframe tbody tr th:only-of-type {\n",
       "        vertical-align: middle;\n",
       "    }\n",
       "\n",
       "    .dataframe tbody tr th {\n",
       "        vertical-align: top;\n",
       "    }\n",
       "\n",
       "    .dataframe thead th {\n",
       "        text-align: right;\n",
       "    }\n",
       "</style>\n",
       "<table border=\"1\" class=\"dataframe\">\n",
       "  <thead>\n",
       "    <tr style=\"text-align: right;\">\n",
       "      <th></th>\n",
       "      <th>X</th>\n",
       "      <th>Y</th>\n",
       "      <th>Z</th>\n",
       "    </tr>\n",
       "  </thead>\n",
       "  <tbody>\n",
       "    <tr>\n",
       "      <th>0</th>\n",
       "      <td>0.014579</td>\n",
       "      <td>-0.014945</td>\n",
       "      <td>1.007415</td>\n",
       "    </tr>\n",
       "    <tr>\n",
       "      <th>1</th>\n",
       "      <td>0.014091</td>\n",
       "      <td>0.001891</td>\n",
       "      <td>1.008879</td>\n",
       "    </tr>\n",
       "    <tr>\n",
       "      <th>2</th>\n",
       "      <td>0.014823</td>\n",
       "      <td>0.000183</td>\n",
       "      <td>1.011807</td>\n",
       "    </tr>\n",
       "    <tr>\n",
       "      <th>3</th>\n",
       "      <td>0.014091</td>\n",
       "      <td>0.001159</td>\n",
       "      <td>1.011807</td>\n",
       "    </tr>\n",
       "    <tr>\n",
       "      <th>4</th>\n",
       "      <td>0.014579</td>\n",
       "      <td>-0.012749</td>\n",
       "      <td>1.001071</td>\n",
       "    </tr>\n",
       "    <tr>\n",
       "      <th>...</th>\n",
       "      <td>...</td>\n",
       "      <td>...</td>\n",
       "      <td>...</td>\n",
       "    </tr>\n",
       "    <tr>\n",
       "      <th>95</th>\n",
       "      <td>0.015799</td>\n",
       "      <td>0.000183</td>\n",
       "      <td>1.010587</td>\n",
       "    </tr>\n",
       "    <tr>\n",
       "      <th>96</th>\n",
       "      <td>0.013847</td>\n",
       "      <td>0.000427</td>\n",
       "      <td>1.011319</td>\n",
       "    </tr>\n",
       "    <tr>\n",
       "      <th>97</th>\n",
       "      <td>0.016043</td>\n",
       "      <td>0.000427</td>\n",
       "      <td>1.012295</td>\n",
       "    </tr>\n",
       "    <tr>\n",
       "      <th>98</th>\n",
       "      <td>0.014823</td>\n",
       "      <td>-0.000793</td>\n",
       "      <td>1.010587</td>\n",
       "    </tr>\n",
       "    <tr>\n",
       "      <th>99</th>\n",
       "      <td>0.014823</td>\n",
       "      <td>0.000183</td>\n",
       "      <td>1.013027</td>\n",
       "    </tr>\n",
       "  </tbody>\n",
       "</table>\n",
       "<p>100 rows × 3 columns</p>\n",
       "</div>"
      ],
      "text/plain": [
       "           X         Y         Z\n",
       "0   0.014579 -0.014945  1.007415\n",
       "1   0.014091  0.001891  1.008879\n",
       "2   0.014823  0.000183  1.011807\n",
       "3   0.014091  0.001159  1.011807\n",
       "4   0.014579 -0.012749  1.001071\n",
       "..       ...       ...       ...\n",
       "95  0.015799  0.000183  1.010587\n",
       "96  0.013847  0.000427  1.011319\n",
       "97  0.016043  0.000427  1.012295\n",
       "98  0.014823 -0.000793  1.010587\n",
       "99  0.014823  0.000183  1.013027\n",
       "\n",
       "[100 rows x 3 columns]"
      ]
     },
     "execution_count": 2,
     "metadata": {},
     "output_type": "execute_result"
    }
   ],
   "source": [
    "df=pd.read_csv(\"mobile_data.csv\")\n",
    "df"
   ]
  },
  {
   "cell_type": "code",
   "execution_count": 3,
   "id": "755388c4",
   "metadata": {},
   "outputs": [
    {
     "data": {
      "text/html": [
       "<div>\n",
       "<style scoped>\n",
       "    .dataframe tbody tr th:only-of-type {\n",
       "        vertical-align: middle;\n",
       "    }\n",
       "\n",
       "    .dataframe tbody tr th {\n",
       "        vertical-align: top;\n",
       "    }\n",
       "\n",
       "    .dataframe thead th {\n",
       "        text-align: right;\n",
       "    }\n",
       "</style>\n",
       "<table border=\"1\" class=\"dataframe\">\n",
       "  <thead>\n",
       "    <tr style=\"text-align: right;\">\n",
       "      <th></th>\n",
       "      <th>X</th>\n",
       "      <th>Y</th>\n",
       "      <th>Z</th>\n",
       "    </tr>\n",
       "  </thead>\n",
       "  <tbody>\n",
       "    <tr>\n",
       "      <th>0</th>\n",
       "      <td>0.014579</td>\n",
       "      <td>-0.014945</td>\n",
       "      <td>1.007415</td>\n",
       "    </tr>\n",
       "    <tr>\n",
       "      <th>1</th>\n",
       "      <td>0.014091</td>\n",
       "      <td>0.001891</td>\n",
       "      <td>1.008879</td>\n",
       "    </tr>\n",
       "    <tr>\n",
       "      <th>2</th>\n",
       "      <td>0.014823</td>\n",
       "      <td>0.000183</td>\n",
       "      <td>1.011807</td>\n",
       "    </tr>\n",
       "    <tr>\n",
       "      <th>3</th>\n",
       "      <td>0.014091</td>\n",
       "      <td>0.001159</td>\n",
       "      <td>1.011807</td>\n",
       "    </tr>\n",
       "    <tr>\n",
       "      <th>4</th>\n",
       "      <td>0.014579</td>\n",
       "      <td>-0.012749</td>\n",
       "      <td>1.001071</td>\n",
       "    </tr>\n",
       "  </tbody>\n",
       "</table>\n",
       "</div>"
      ],
      "text/plain": [
       "          X         Y         Z\n",
       "0  0.014579 -0.014945  1.007415\n",
       "1  0.014091  0.001891  1.008879\n",
       "2  0.014823  0.000183  1.011807\n",
       "3  0.014091  0.001159  1.011807\n",
       "4  0.014579 -0.012749  1.001071"
      ]
     },
     "execution_count": 3,
     "metadata": {},
     "output_type": "execute_result"
    }
   ],
   "source": [
    "df.head()"
   ]
  },
  {
   "cell_type": "code",
   "execution_count": 4,
   "id": "c09d933e",
   "metadata": {},
   "outputs": [
    {
     "data": {
      "text/plain": [
       "X    0\n",
       "Y    0\n",
       "Z    0\n",
       "dtype: int64"
      ]
     },
     "execution_count": 4,
     "metadata": {},
     "output_type": "execute_result"
    }
   ],
   "source": [
    "df.isnull().sum()"
   ]
  },
  {
   "cell_type": "code",
   "execution_count": 23,
   "id": "156c3d04",
   "metadata": {},
   "outputs": [
    {
     "data": {
      "image/png": "[encoded data removed]",
      "text/plain": [
       "<Figure size 640x480 with 1 Axes>"
      ]
     },
     "metadata": {},
     "output_type": "display_data"
    }
   ],
   "source": [
    "plt.scatter(df['X'],df['Y'], color = 'blue')\n",
    "plt.xlabel(\"Acc_X\")\n",
    "plt.ylabel(\"Acc_Y\")\n",
    "plt.show()\n"
   ]
  },
  {
   "cell_type": "code",
   "execution_count": 24,
   "id": "1f0c1837",
   "metadata": {},
   "outputs": [
    {
     "data": {
      "text/plain": [
       "Text(0, 0.5, 'Acc_Z')"
      ]
     },
     "execution_count": 24,
     "metadata": {},
     "output_type": "execute_result"
    },
    {
     "data": {
      "image/png": "[encoded data removed]",
      "text/plain": [
       "<Figure size 640x480 with 1 Axes>"
      ]
     },
     "metadata": {},
     "output_type": "display_data"
    }
   ],
   "source": [
    "plt.scatter(df[\"Y\"],df[\"Z\"], color = 'brown')\n",
    "plt.xlabel(\"Acc_Y\")\n",
    "plt.ylabel(\"Acc_Z\")"
   ]
  },
  {
   "cell_type": "code",
   "execution_count": 7,
   "id": "6d69c9e7",
   "metadata": {},
   "outputs": [
    {
     "data": {
      "text/html": [
       "<div>\n",
       "<style scoped>\n",
       "    .dataframe tbody tr th:only-of-type {\n",
       "        vertical-align: middle;\n",
       "    }\n",
       "\n",
       "    .dataframe tbody tr th {\n",
       "        vertical-align: top;\n",
       "    }\n",
       "\n",
       "    .dataframe thead th {\n",
       "        text-align: right;\n",
       "    }\n",
       "</style>\n",
       "<table border=\"1\" class=\"dataframe\">\n",
       "  <thead>\n",
       "    <tr style=\"text-align: right;\">\n",
       "      <th></th>\n",
       "      <th>X</th>\n",
       "      <th>Y</th>\n",
       "      <th>Z</th>\n",
       "    </tr>\n",
       "  </thead>\n",
       "  <tbody>\n",
       "    <tr>\n",
       "      <th>0</th>\n",
       "      <td>0.014579</td>\n",
       "      <td>-0.014945</td>\n",
       "      <td>1.007415</td>\n",
       "    </tr>\n",
       "    <tr>\n",
       "      <th>1</th>\n",
       "      <td>0.014091</td>\n",
       "      <td>0.001891</td>\n",
       "      <td>1.008879</td>\n",
       "    </tr>\n",
       "    <tr>\n",
       "      <th>2</th>\n",
       "      <td>0.014823</td>\n",
       "      <td>0.000183</td>\n",
       "      <td>1.011807</td>\n",
       "    </tr>\n",
       "    <tr>\n",
       "      <th>3</th>\n",
       "      <td>0.014091</td>\n",
       "      <td>0.001159</td>\n",
       "      <td>1.011807</td>\n",
       "    </tr>\n",
       "    <tr>\n",
       "      <th>4</th>\n",
       "      <td>0.014579</td>\n",
       "      <td>-0.012749</td>\n",
       "      <td>1.001071</td>\n",
       "    </tr>\n",
       "    <tr>\n",
       "      <th>...</th>\n",
       "      <td>...</td>\n",
       "      <td>...</td>\n",
       "      <td>...</td>\n",
       "    </tr>\n",
       "    <tr>\n",
       "      <th>95</th>\n",
       "      <td>0.015799</td>\n",
       "      <td>0.000183</td>\n",
       "      <td>1.010587</td>\n",
       "    </tr>\n",
       "    <tr>\n",
       "      <th>96</th>\n",
       "      <td>0.013847</td>\n",
       "      <td>0.000427</td>\n",
       "      <td>1.011319</td>\n",
       "    </tr>\n",
       "    <tr>\n",
       "      <th>97</th>\n",
       "      <td>0.016043</td>\n",
       "      <td>0.000427</td>\n",
       "      <td>1.012295</td>\n",
       "    </tr>\n",
       "    <tr>\n",
       "      <th>98</th>\n",
       "      <td>0.014823</td>\n",
       "      <td>-0.000793</td>\n",
       "      <td>1.010587</td>\n",
       "    </tr>\n",
       "    <tr>\n",
       "      <th>99</th>\n",
       "      <td>0.014823</td>\n",
       "      <td>0.000183</td>\n",
       "      <td>1.013027</td>\n",
       "    </tr>\n",
       "  </tbody>\n",
       "</table>\n",
       "<p>100 rows × 3 columns</p>\n",
       "</div>"
      ],
      "text/plain": [
       "           X         Y         Z\n",
       "0   0.014579 -0.014945  1.007415\n",
       "1   0.014091  0.001891  1.008879\n",
       "2   0.014823  0.000183  1.011807\n",
       "3   0.014091  0.001159  1.011807\n",
       "4   0.014579 -0.012749  1.001071\n",
       "..       ...       ...       ...\n",
       "95  0.015799  0.000183  1.010587\n",
       "96  0.013847  0.000427  1.011319\n",
       "97  0.016043  0.000427  1.012295\n",
       "98  0.014823 -0.000793  1.010587\n",
       "99  0.014823  0.000183  1.013027\n",
       "\n",
       "[100 rows x 3 columns]"
      ]
     },
     "execution_count": 7,
     "metadata": {},
     "output_type": "execute_result"
    }
   ],
   "source": [
    "relevant_cols = [\"X\",\"Y\",\"Z\"]\n",
    "\n",
    "final_df = df[relevant_cols]\n",
    "final_df"
   ]
  },
  {
   "cell_type": "code",
   "execution_count": 8,
   "id": "eeed5ec5",
   "metadata": {},
   "outputs": [
    {
     "data": {
      "text/plain": [
       "StandardScaler()"
      ]
     },
     "execution_count": 8,
     "metadata": {},
     "output_type": "execute_result"
    }
   ],
   "source": [
    "scaler = StandardScaler()\n",
    "scaler.fit(final_df)"
   ]
  },
  {
   "cell_type": "code",
   "execution_count": 9,
   "id": "5affc2f1",
   "metadata": {},
   "outputs": [
    {
     "data": {
      "text/plain": [
       "array([[-0.46128391, -2.9749853 , -0.53177541],\n",
       "       [-0.73504371,  0.34922248, -0.16545644],\n",
       "       [-0.32440485,  0.01198401,  0.56720576],\n",
       "       [-0.73504371,  0.20469171,  0.56720576],\n",
       "       [-0.46128391, -2.54139317, -2.1192064 ],\n",
       "       [ 4.3295022 ,  0.44557633,  5.75682218],\n",
       "       [-0.18752524,  0.20469171,  0.62825905],\n",
       "       [-0.46128391, -0.03619291, -0.16545644],\n",
       "       [ 0.22311418, -0.03619291,  0.0787562 ],\n",
       "       [-0.32440485, -0.08436983, -0.04335012],\n",
       "       [-0.46128391,  0.06016094, -0.28756277],\n",
       "       [-0.18752524,  0.10833786,  0.26191556],\n",
       "       [-0.32440485,  0.15651479,  0.38402188],\n",
       "       [ 0.49687286, -0.03619291, -0.5928287 ],\n",
       "       [ 0.22311418, -0.03619291,  0.26191556],\n",
       "       [-0.18752524, -0.08436983, -0.10440341],\n",
       "       [-0.18752524,  0.15651479,  0.26191556],\n",
       "       [ 0.35999324,  0.10833786, -0.65390625],\n",
       "       [ 1.04439134,  0.25286864, -1.56970355],\n",
       "       [ 0.35999324,  0.06016094, -1.56970355],\n",
       "       [ 0.63375304, -0.18072368, -1.50865051],\n",
       "       [ 0.086234  ,  0.06016094, -1.63075683],\n",
       "       [ 0.22311418,  0.10833786, -1.50865051],\n",
       "       [-0.05064562,  0.01198401, -1.44759723],\n",
       "       [ 0.63375304, -0.08436983, -1.08127826],\n",
       "       [ 0.086234  , -0.03619291, -0.77601258],\n",
       "       [-0.18752524, -0.08436983, -0.53177541],\n",
       "       [ 0.086234  ,  0.10833786, -0.95917194],\n",
       "       [ 0.49687286,  0.20469171,  0.01770292],\n",
       "       [ 0.22311418,  0.06016094, -0.53177541],\n",
       "       [ 0.7706321 ,  0.10833786, -0.77601258],\n",
       "       [-0.32440485, -0.08436983, -0.71495929],\n",
       "       [ 0.22311418, -0.08436983, -0.53177541],\n",
       "       [-0.05064562, -0.13254676,  0.0787562 ],\n",
       "       [ 0.086234  ,  0.06016094, -0.04335012],\n",
       "       [-0.18752524,  0.10833786, -0.40966909],\n",
       "       [-0.05064562,  0.10833786, -0.22650973],\n",
       "       [ 0.086234  ,  0.01198401, -0.16545644],\n",
       "       [-0.46128391,  0.01198401, -0.5928287 ],\n",
       "       [ 0.086234  ,  0.10833786, -0.53177541],\n",
       "       [-0.87192277,  0.10833786,  0.56720576],\n",
       "       [ 5.56141877, -6.3473702 ,  0.50615273],\n",
       "       [-5.79958962,  6.52189092,  0.44507517],\n",
       "       [ 0.7706321 , -0.08436983, -1.14233154],\n",
       "       [ 0.49687286,  0.10833786, -0.83706561],\n",
       "       [-0.32440485,  0.25286864, -0.47072237],\n",
       "       [-0.05064562, -0.08436983,  0.0787562 ],\n",
       "       [-0.46128391,  0.10833786,  0.93352473],\n",
       "       [-0.73504371,  0.06016094,  1.36089699],\n",
       "       [-0.46128391,  0.20469171,  1.05563105],\n",
       "       [ 0.22311418,  0.06016094,  0.50615273],\n",
       "       [-0.18752524,  0.15651479,  0.56720576],\n",
       "       [-0.46128391, -0.03619291,  1.17773738],\n",
       "       [-0.18752524,  0.06016094, -0.28756277],\n",
       "       [ 0.35999324,  0.30104556,  0.38402188],\n",
       "       [-0.18752524, -0.03619291,  0.68931209],\n",
       "       [-0.05064562,  0.10833786,  0.13980924],\n",
       "       [-0.32440485,  0.10833786, -0.53177541],\n",
       "       [ 0.086234  ,  0.01198401, -1.08127826],\n",
       "       [-0.05064562,  0.06016094, -0.71495929],\n",
       "       [ 0.22311418, -0.13254676, -0.22650973],\n",
       "       [-0.05064562, -0.08436983, -0.28756277],\n",
       "       [-0.05064562, -0.08436983, -0.04335012],\n",
       "       [-0.59816409, -0.18072368, -0.10440341],\n",
       "       [ 0.35999324,  0.06016094,  0.50615273],\n",
       "       [-0.18752524,  0.15651479, -0.28756277],\n",
       "       [-0.59816409,  0.01198401,  0.01770292],\n",
       "       [ 0.22311418,  0.15651479,  0.62825905],\n",
       "       [-0.18752524,  0.25286864,  0.44507517],\n",
       "       [-0.05064562,  0.01198401,  0.38402188],\n",
       "       [-0.59816409, -0.03619291,  0.50615273],\n",
       "       [-0.18752524,  0.01198401,  0.56720576],\n",
       "       [ 0.63375304,  0.01198401, -0.10440341],\n",
       "       [-0.05064562,  0.10833786,  0.38402188],\n",
       "       [ 0.086234  ,  0.15651479,  4.59678772],\n",
       "       [-0.46128391, -0.13254676, -0.10440341],\n",
       "       [ 0.90751228,  0.30104556, -0.83706561],\n",
       "       [ 0.086234  ,  0.01198401,  0.20086252],\n",
       "       [-0.46128391, -0.13254676,  0.26191556],\n",
       "       [-0.18752524,  0.06016094,  0.01770292],\n",
       "       [ 0.7706321 ,  0.01198401, -0.34861605],\n",
       "       [ 0.22311418,  0.39739941, -0.10440341],\n",
       "       [ 0.22311418,  0.06016094, -0.22650973],\n",
       "       [-0.73504371,  0.06016094,  0.8724717 ],\n",
       "       [-0.32440485,  0.20469171, -0.34861605],\n",
       "       [ 0.22311418, -0.03619291,  0.0787562 ],\n",
       "       [-0.73504371,  0.34922248, -0.8981189 ],\n",
       "       [-0.05064562,  0.10833786, -0.34861605],\n",
       "       [-0.05064562,  0.10833786,  0.13980924],\n",
       "       [ 0.086234  ,  0.01198401,  0.13980924],\n",
       "       [-0.18752524, -0.08436983,  0.56720576],\n",
       "       [ 0.35999324, -0.03619291, -0.28756277],\n",
       "       [ 0.7706321 ,  0.10833786,  0.50615273],\n",
       "       [-0.32440485,  0.06016094,  0.38402188],\n",
       "       [ 0.086234  , -0.13254676,  0.38402188],\n",
       "       [ 0.22311418,  0.01198401,  0.26191556],\n",
       "       [-0.87192277,  0.06016094,  0.44507517],\n",
       "       [ 0.35999324,  0.06016094,  0.68931209],\n",
       "       [-0.32440485, -0.18072368,  0.26191556],\n",
       "       [-0.32440485,  0.01198401,  0.8724717 ]])"
      ]
     },
     "execution_count": 9,
     "metadata": {},
     "output_type": "execute_result"
    }
   ],
   "source": [
    "scaled_data = scaler.transform(final_df)\n",
    "scaled_data"
   ]
  },
  {
   "cell_type": "code",
   "execution_count": 10,
   "id": "e497d62e",
   "metadata": {},
   "outputs": [],
   "source": [
    "def find_best_clusters(df, maximum_K):\n",
    "    clusters_centers = []\n",
    "    k_values = []\n",
    "    for k in range(1, maximum_K):\n",
    "        kmeans_model = KMeans(n_clusters = k)\n",
    "        kmeans_model.fit(df)\n",
    "        clusters_centers.append(kmeans_model.inertia_)\n",
    "        k_values.append(k)\n",
    "    return clusters_centers, k_values"
   ]
  },
  {
   "cell_type": "code",
   "execution_count": 11,
   "id": "0b0b532e",
   "metadata": {},
   "outputs": [
    {
     "name": "stderr",
     "output_type": "stream",
     "text": [
      "C:\\Users\\Sap\\anaconda3\\lib\\site-packages\\sklearn\\cluster\\_kmeans.py:1036: UserWarning: KMeans is known to have a memory leak on Windows with MKL, when there are less chunks than available threads. You can avoid it by setting the environment variable OMP_NUM_THREADS=1.\n",
      "  warnings.warn(\n"
     ]
    }
   ],
   "source": [
    "clusters_centers, k_values = find_best_clusters(scaled_data, 12)"
   ]
  },
  {
   "cell_type": "code",
   "execution_count": 16,
   "id": "3ec008df",
   "metadata": {},
   "outputs": [],
   "source": [
    "def generate_elbow_plot(clusters_centers, k_values):\n",
    "\n",
    "    figure = plt.subplots(figsize = (12, 6))\n",
    "    plt.plot(k_values, clusters_centers, 'o-', color = 'skyblue')\n",
    "    plt.xlabel(\"Number of Clusters (K)\")\n",
    "    plt.ylabel(\"Cluster Inertia\")\n",
    "    plt.title(\"Elbow Plot of KMeans\")\n",
    "    plt.show()"
   ]
  },
  {
   "cell_type": "code",
   "execution_count": 17,
   "id": "4b55ab6c",
   "metadata": {},
   "outputs": [
    {
     "data": {
      "image/png": "[encoded data removed]",
      "text/plain": [
       "<Figure size 1200x600 with 1 Axes>"
      ]
     },
     "metadata": {},
     "output_type": "display_data"
    }
   ],
   "source": [
    "generate_elbow_plot(clusters_centers, k_values)"
   ]
  },
  {
   "cell_type": "code",
   "execution_count": null,
   "id": "456b67eb",
   "metadata": {},
   "outputs": [],
   "source": []
  }
 ],
 "metadata": {
  "kernelspec": {
   "display_name": "Python 3 (ipykernel)",
   "language": "python",
   "name": "python3"
  },
  "language_info": {
   "codemirror_mode": {
    "name": "ipython",
    "version": 3
   },
   "file_extension": ".py",
   "mimetype": "text/x-python",
   "name": "python",
   "nbconvert_exporter": "python",
   "pygments_lexer": "ipython3",
   "version": "3.9.13"
  }
 },
 "nbformat": 4,
 "nbformat_minor": 5
}
